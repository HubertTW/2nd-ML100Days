{
 "cells": [
  {
   "cell_type": "markdown",
   "metadata": {},
   "source": [
    "## [作業重點]\n",
    "使用 Sklearn 中的 Lasso, Ridge 模型，來訓練各種資料集，務必了解送進去模型訓練的**資料型態**為何，也請了解模型中各項參數的意義。\n",
    "\n",
    "機器學習的模型非常多種，但要訓練的資料多半有固定的格式，確保你了解訓練資料的格式為何，這樣在應用新模型時，就能夠最快的上手開始訓練！"
   ]
  },
  {
   "cell_type": "markdown",
   "metadata": {},
   "source": [
    "## 練習時間\n",
    "試著使用 sklearn datasets 的其他資料集 (boston, ...)，來訓練自己的線性迴歸模型，並加上適當的正則話來觀察訓練情形。"
   ]
  },
  {
   "cell_type": "code",
   "execution_count": 7,
   "metadata": {},
   "outputs": [
    {
     "data": {
      "text/plain": [
       "array([12.07495986, 26.9894969 , 17.58803353, 18.15584511, 36.92091659,\n",
       "       25.43267386, 31.09256932, 19.72549907, 19.66103377, 22.96358632,\n",
       "       28.38841214, 28.48925986, 18.99690357, 32.41097504, 21.52350275,\n",
       "       15.25945122, 21.23364112, 11.6220597 , 11.37109662, 13.63515584,\n",
       "        5.62431971, 17.35323315, 20.80951594, 22.51311312, 16.39055556,\n",
       "       20.32352451, 17.88994185, 14.23445109, 21.1187098 , 17.50765806,\n",
       "       14.54295525, 23.63289896, 34.32419647, 22.23027161, 16.82396516,\n",
       "       20.16274383, 30.67665825, 35.61882904, 23.50372003, 24.66451121,\n",
       "       36.91269871, 32.33290254, 19.11785719, 32.19546605, 33.42795148,\n",
       "       25.52705821, 40.63477427, 18.21762788, 19.34587461, 23.80167377,\n",
       "       33.42122982, 26.1451108 , 18.10363121, 28.19906437, 13.37486655,\n",
       "       23.34019279, 24.44952678, 33.54973856, 16.71263275, 36.56402224,\n",
       "       15.69684554, 18.55447039, 32.14543203, 15.49568061, 39.02363234,\n",
       "       27.38174402, 31.96333419, 10.09436162, 19.13214621, 21.73038157,\n",
       "       23.14682001, 22.82615401, 22.51245566, 28.21477189, 17.13262484,\n",
       "       23.08039019, 16.65978367, 25.17892617, 13.68806399, 19.8195139 ,\n",
       "       22.31237842, 20.24637447, 28.35989119, 19.12635952, 30.49206633,\n",
       "       22.25649076, 29.98229473, 19.27750127, 23.73890345, 38.32216452,\n",
       "       31.24781499, 41.92137782, 18.61466511, 37.47526878, 19.66151941,\n",
       "       23.44504636, 26.55358092, 22.38454399,  9.59394823, 20.39499251,\n",
       "        9.22793989, 27.36219976])"
      ]
     },
     "execution_count": 7,
     "metadata": {},
     "output_type": "execute_result"
    }
   ],
   "source": [
    "from sklearn.datasets import load_boston\n",
    "from sklearn.model_selection import train_test_split\n",
    "from sklearn import linear_model\n",
    "\n",
    "boston=load_boston()\n",
    "x_train,x_test,y_train,y_test=train_test_split(boston.data,boston.target,test_size=0.2,random_state=4)\n",
    "reg=linear_model.LinearRegression()\n",
    "reg.fit(x_train,y_train)\n",
    "y_pred=reg.predict(x_test)\n",
    "y_pred"
   ]
  },
  {
   "cell_type": "code",
   "execution_count": 10,
   "metadata": {},
   "outputs": [
    {
     "name": "stdout",
     "output_type": "stream",
     "text": [
      "Mean square error:25.42\n"
     ]
    }
   ],
   "source": [
    "from sklearn.metrics import mean_squared_error\n",
    "print(\"Mean square error:%.2f\"%mean_squared_error(y_pred,y_test))"
   ]
  },
  {
   "cell_type": "code",
   "execution_count": 22,
   "metadata": {},
   "outputs": [
    {
     "name": "stdout",
     "output_type": "stream",
     "text": [
      "mean squared error:25\n"
     ]
    }
   ],
   "source": [
    "#發現當alpha愈小error愈小 \n",
    "lasso=linear_model.Lasso(alpha=0.001)\n",
    "lasso.fit(x_train,y_train)\n",
    "y_lasso=lasso.predict(x_test)\n",
    "print('mean squared error:%2.f'%mean_squared_error(y_lasso,y_test))"
   ]
  },
  {
   "cell_type": "code",
   "execution_count": 25,
   "metadata": {},
   "outputs": [
    {
     "name": "stdout",
     "output_type": "stream",
     "text": [
      "mean_squared_error:  25\n"
     ]
    }
   ],
   "source": [
    "#同上\n",
    "ridge=linear_model.Ridge(alpha=0.001)\n",
    "ridge.fit(x_train,y_train)\n",
    "y_ridge=ridge.predict(x_test)\n",
    "print('mean_squared_error:%4.f'%mean_squared_error(y_ridge,y_test))"
   ]
  },
  {
   "cell_type": "markdown",
   "metadata": {},
   "source": [
    "# conclusion:目前的資料不需進行normalization"
   ]
  }
 ],
 "metadata": {
  "kernelspec": {
   "display_name": "Python 3",
   "language": "python",
   "name": "python3"
  },
  "language_info": {
   "codemirror_mode": {
    "name": "ipython",
    "version": 3
   },
   "file_extension": ".py",
   "mimetype": "text/x-python",
   "name": "python",
   "nbconvert_exporter": "python",
   "pygments_lexer": "ipython3",
   "version": "3.7.1"
  }
 },
 "nbformat": 4,
 "nbformat_minor": 2
}
